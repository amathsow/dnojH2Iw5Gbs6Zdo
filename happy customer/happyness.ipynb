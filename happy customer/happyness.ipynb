{
  "cells": [
    {
      "cell_type": "markdown",
      "metadata": {
        "id": "puLgQw_Y3ob9"
      },
      "source": [
        "**Background:**\n",
        "\n",
        "We are one of the fastest growing startups in the logistics and delivery domain. We work with several partners and make on-demand delivery to our customers. During the COVID-19 pandemic, we are facing several different challenges and everyday we are trying to address these challenges.\n",
        "\n",
        "We thrive on making our customers happy. As a growing startup, with a global expansion strategy we know that we need to make our customers happy and the only way to do that is to measure how happy each customer is. If we can predict what makes our customers happy or unhappy, we can then take necessary actions.\n",
        "\n",
        "Getting feedback from customers is not easy either, but we do our best to get constant feedback from our customers. This is a crucial function to improve our operations across all levels.\n",
        "\n",
        "We recently did a survey to a select customer cohort. You are presented with a subset of this data. We will be using the remaining data as a private test set."
      ]
    },
    {
      "cell_type": "markdown",
      "metadata": {
        "id": "kSHq3dYj3zA-"
      },
      "source": [
        "**Data Description:**\n",
        "\n",
        "* Y = target attribute (Y) with values indicating 0 (unhappy) and 1 (happy) customers\n",
        "* X1 = my order was delivered on time\n",
        "* X2 = contents of my order was as I expected\n",
        "* X3 = I ordered everything I wanted to order\n",
        "* X4 = I paid a good price for my order\n",
        "* X5 = I am satisfied with my courier\n",
        "* X6 = the app makes ordering easy for me \n",
        "\n",
        "Attributes X1 to X6 indicate the responses for each question and have values from 1 to 5 where the smaller number indicates less and the higher number indicates more towards the answer. "
      ]
    },
    {
      "cell_type": "markdown",
      "metadata": {
        "id": "lscU0MfQ359F"
      },
      "source": [
        "**Goal(s):**\n",
        "\n",
        "* Predict if a customer is happy or not based on the answers they give to questions asked."
      ]
    },
    {
      "cell_type": "markdown",
      "metadata": {
        "id": "-MKithHQ399U"
      },
      "source": [
        "**Success Metrics:**\n",
        "\n",
        "* Reach 73% accuracy score or above, or convince us why your solution is superior. We are definitely interested in every solution and insight you can provide us.\n",
        "* Try to submit your working solution as soon as possible. The sooner the better. "
      ]
    },
    {
      "cell_type": "markdown",
      "metadata": {
        "id": "BTEnmQeI4D93"
      },
      "source": [
        "**Data exploration and features engineering**"
      ]
    },
    {
      "cell_type": "code",
      "execution_count": 623,
      "metadata": {
        "id": "O7SeWr3k4Eid"
      },
      "outputs": [],
      "source": [
        "import numpy as np\n",
        "import pandas as pd\n",
        "from sklearn.feature_selection import chi2\n",
        "%matplotlib inline\n",
        "import matplotlib.pyplot as plt\n",
        "import seaborn as sns\n",
        "from sklearn.model_selection import train_test_split, cross_val_score\n",
        "from sklearn import svm, metrics\n",
        "from sklearn.metrics import accuracy_score,confusion_matrix, classification_report, plot_confusion_matrix\n",
        "from xgboost import XGBClassifier\n",
        "from sklearn.linear_model import LogisticRegression\n",
        "from sklearn.ensemble import RandomForestClassifier\n",
        "from sklearn.tree import DecisionTreeClassifier\n",
        "from sklearn.model_selection import StratifiedKFold\n",
        "from sklearn.neighbors import KNeighborsClassifier\n",
        "from sklearn.discriminant_analysis import LinearDiscriminantAnalysis\n",
        "from sklearn.naive_bayes import GaussianNB\n",
        "from sklearn.svm import SVC"
      ]
    },
    {
      "cell_type": "code",
      "execution_count": 624,
      "metadata": {
        "id": "q8TvoYkO6ZuZ"
      },
      "outputs": [],
      "source": [
        "df = pd.read_csv('HappinessSurvey2020.csv')"
      ]
    },
    {
      "cell_type": "code",
      "execution_count": 625,
      "metadata": {
        "colab": {
          "base_uri": "https://localhost:8080/",
          "height": 206
        },
        "id": "LfX6iXwn61sb",
        "outputId": "86a17a58-dfc0-492a-bfe1-6dc740bfeab9"
      },
      "outputs": [
        {
          "data": {
            "text/html": [
              "<div>\n",
              "<style scoped>\n",
              "    .dataframe tbody tr th:only-of-type {\n",
              "        vertical-align: middle;\n",
              "    }\n",
              "\n",
              "    .dataframe tbody tr th {\n",
              "        vertical-align: top;\n",
              "    }\n",
              "\n",
              "    .dataframe thead th {\n",
              "        text-align: right;\n",
              "    }\n",
              "</style>\n",
              "<table border=\"1\" class=\"dataframe\">\n",
              "  <thead>\n",
              "    <tr style=\"text-align: right;\">\n",
              "      <th></th>\n",
              "      <th>Y</th>\n",
              "      <th>X1</th>\n",
              "      <th>X2</th>\n",
              "      <th>X3</th>\n",
              "      <th>X4</th>\n",
              "      <th>X5</th>\n",
              "      <th>X6</th>\n",
              "    </tr>\n",
              "  </thead>\n",
              "  <tbody>\n",
              "    <tr>\n",
              "      <th>0</th>\n",
              "      <td>0</td>\n",
              "      <td>3</td>\n",
              "      <td>3</td>\n",
              "      <td>3</td>\n",
              "      <td>4</td>\n",
              "      <td>2</td>\n",
              "      <td>4</td>\n",
              "    </tr>\n",
              "    <tr>\n",
              "      <th>1</th>\n",
              "      <td>0</td>\n",
              "      <td>3</td>\n",
              "      <td>2</td>\n",
              "      <td>3</td>\n",
              "      <td>5</td>\n",
              "      <td>4</td>\n",
              "      <td>3</td>\n",
              "    </tr>\n",
              "    <tr>\n",
              "      <th>2</th>\n",
              "      <td>1</td>\n",
              "      <td>5</td>\n",
              "      <td>3</td>\n",
              "      <td>3</td>\n",
              "      <td>3</td>\n",
              "      <td>3</td>\n",
              "      <td>5</td>\n",
              "    </tr>\n",
              "    <tr>\n",
              "      <th>3</th>\n",
              "      <td>0</td>\n",
              "      <td>5</td>\n",
              "      <td>4</td>\n",
              "      <td>3</td>\n",
              "      <td>3</td>\n",
              "      <td>3</td>\n",
              "      <td>5</td>\n",
              "    </tr>\n",
              "    <tr>\n",
              "      <th>4</th>\n",
              "      <td>0</td>\n",
              "      <td>5</td>\n",
              "      <td>4</td>\n",
              "      <td>3</td>\n",
              "      <td>3</td>\n",
              "      <td>3</td>\n",
              "      <td>5</td>\n",
              "    </tr>\n",
              "  </tbody>\n",
              "</table>\n",
              "</div>"
            ],
            "text/plain": [
              "   Y  X1  X2  X3  X4  X5  X6\n",
              "0  0   3   3   3   4   2   4\n",
              "1  0   3   2   3   5   4   3\n",
              "2  1   5   3   3   3   3   5\n",
              "3  0   5   4   3   3   3   5\n",
              "4  0   5   4   3   3   3   5"
            ]
          },
          "execution_count": 625,
          "metadata": {},
          "output_type": "execute_result"
        }
      ],
      "source": [
        "df.head()"
      ]
    },
    {
      "cell_type": "code",
      "execution_count": 626,
      "metadata": {
        "colab": {
          "base_uri": "https://localhost:8080/"
        },
        "id": "5Sxgi7_h-a2J",
        "outputId": "2d5ca497-0a5c-4cb2-93ae-10295542aa45"
      },
      "outputs": [
        {
          "name": "stdout",
          "output_type": "stream",
          "text": [
            "<class 'pandas.core.frame.DataFrame'>\n",
            "RangeIndex: 126 entries, 0 to 125\n",
            "Data columns (total 7 columns):\n",
            " #   Column  Non-Null Count  Dtype\n",
            "---  ------  --------------  -----\n",
            " 0   Y       126 non-null    int64\n",
            " 1   X1      126 non-null    int64\n",
            " 2   X2      126 non-null    int64\n",
            " 3   X3      126 non-null    int64\n",
            " 4   X4      126 non-null    int64\n",
            " 5   X5      126 non-null    int64\n",
            " 6   X6      126 non-null    int64\n",
            "dtypes: int64(7)\n",
            "memory usage: 7.0 KB\n"
          ]
        }
      ],
      "source": [
        "df.info()"
      ]
    },
    {
      "cell_type": "markdown",
      "metadata": {},
      "source": [
        "Observation: We have 126 entries and 7 columns without missing value"
      ]
    },
    {
      "cell_type": "code",
      "execution_count": 627,
      "metadata": {
        "colab": {
          "base_uri": "https://localhost:8080/",
          "height": 300
        },
        "id": "81RZaz_X-d6j",
        "outputId": "a26a367a-d738-47f6-98bb-e40ab9f363f7"
      },
      "outputs": [
        {
          "data": {
            "text/html": [
              "<div>\n",
              "<style scoped>\n",
              "    .dataframe tbody tr th:only-of-type {\n",
              "        vertical-align: middle;\n",
              "    }\n",
              "\n",
              "    .dataframe tbody tr th {\n",
              "        vertical-align: top;\n",
              "    }\n",
              "\n",
              "    .dataframe thead th {\n",
              "        text-align: right;\n",
              "    }\n",
              "</style>\n",
              "<table border=\"1\" class=\"dataframe\">\n",
              "  <thead>\n",
              "    <tr style=\"text-align: right;\">\n",
              "      <th></th>\n",
              "      <th>Y</th>\n",
              "      <th>X1</th>\n",
              "      <th>X2</th>\n",
              "      <th>X3</th>\n",
              "      <th>X4</th>\n",
              "      <th>X5</th>\n",
              "      <th>X6</th>\n",
              "    </tr>\n",
              "  </thead>\n",
              "  <tbody>\n",
              "    <tr>\n",
              "      <th>count</th>\n",
              "      <td>126.000000</td>\n",
              "      <td>126.000000</td>\n",
              "      <td>126.000000</td>\n",
              "      <td>126.000000</td>\n",
              "      <td>126.000000</td>\n",
              "      <td>126.000000</td>\n",
              "      <td>126.000000</td>\n",
              "    </tr>\n",
              "    <tr>\n",
              "      <th>mean</th>\n",
              "      <td>0.547619</td>\n",
              "      <td>4.333333</td>\n",
              "      <td>2.531746</td>\n",
              "      <td>3.309524</td>\n",
              "      <td>3.746032</td>\n",
              "      <td>3.650794</td>\n",
              "      <td>4.253968</td>\n",
              "    </tr>\n",
              "    <tr>\n",
              "      <th>std</th>\n",
              "      <td>0.499714</td>\n",
              "      <td>0.800000</td>\n",
              "      <td>1.114892</td>\n",
              "      <td>1.023440</td>\n",
              "      <td>0.875776</td>\n",
              "      <td>1.147641</td>\n",
              "      <td>0.809311</td>\n",
              "    </tr>\n",
              "    <tr>\n",
              "      <th>min</th>\n",
              "      <td>0.000000</td>\n",
              "      <td>1.000000</td>\n",
              "      <td>1.000000</td>\n",
              "      <td>1.000000</td>\n",
              "      <td>1.000000</td>\n",
              "      <td>1.000000</td>\n",
              "      <td>1.000000</td>\n",
              "    </tr>\n",
              "    <tr>\n",
              "      <th>25%</th>\n",
              "      <td>0.000000</td>\n",
              "      <td>4.000000</td>\n",
              "      <td>2.000000</td>\n",
              "      <td>3.000000</td>\n",
              "      <td>3.000000</td>\n",
              "      <td>3.000000</td>\n",
              "      <td>4.000000</td>\n",
              "    </tr>\n",
              "    <tr>\n",
              "      <th>50%</th>\n",
              "      <td>1.000000</td>\n",
              "      <td>5.000000</td>\n",
              "      <td>3.000000</td>\n",
              "      <td>3.000000</td>\n",
              "      <td>4.000000</td>\n",
              "      <td>4.000000</td>\n",
              "      <td>4.000000</td>\n",
              "    </tr>\n",
              "    <tr>\n",
              "      <th>75%</th>\n",
              "      <td>1.000000</td>\n",
              "      <td>5.000000</td>\n",
              "      <td>3.000000</td>\n",
              "      <td>4.000000</td>\n",
              "      <td>4.000000</td>\n",
              "      <td>4.000000</td>\n",
              "      <td>5.000000</td>\n",
              "    </tr>\n",
              "    <tr>\n",
              "      <th>max</th>\n",
              "      <td>1.000000</td>\n",
              "      <td>5.000000</td>\n",
              "      <td>5.000000</td>\n",
              "      <td>5.000000</td>\n",
              "      <td>5.000000</td>\n",
              "      <td>5.000000</td>\n",
              "      <td>5.000000</td>\n",
              "    </tr>\n",
              "  </tbody>\n",
              "</table>\n",
              "</div>"
            ],
            "text/plain": [
              "                Y          X1          X2          X3          X4          X5  \\\n",
              "count  126.000000  126.000000  126.000000  126.000000  126.000000  126.000000   \n",
              "mean     0.547619    4.333333    2.531746    3.309524    3.746032    3.650794   \n",
              "std      0.499714    0.800000    1.114892    1.023440    0.875776    1.147641   \n",
              "min      0.000000    1.000000    1.000000    1.000000    1.000000    1.000000   \n",
              "25%      0.000000    4.000000    2.000000    3.000000    3.000000    3.000000   \n",
              "50%      1.000000    5.000000    3.000000    3.000000    4.000000    4.000000   \n",
              "75%      1.000000    5.000000    3.000000    4.000000    4.000000    4.000000   \n",
              "max      1.000000    5.000000    5.000000    5.000000    5.000000    5.000000   \n",
              "\n",
              "               X6  \n",
              "count  126.000000  \n",
              "mean     4.253968  \n",
              "std      0.809311  \n",
              "min      1.000000  \n",
              "25%      4.000000  \n",
              "50%      4.000000  \n",
              "75%      5.000000  \n",
              "max      5.000000  "
            ]
          },
          "execution_count": 627,
          "metadata": {},
          "output_type": "execute_result"
        }
      ],
      "source": [
        "df.describe(include=\"all\")"
      ]
    },
    {
      "cell_type": "code",
      "execution_count": 628,
      "metadata": {
        "colab": {
          "base_uri": "https://localhost:8080/",
          "height": 392
        },
        "id": "WCAupUY8-ghf",
        "outputId": "edd46b4d-0a28-419b-e8d4-3b02da80f649"
      },
      "outputs": [
        {
          "name": "stdout",
          "output_type": "stream",
          "text": [
            "happy: Y    54.761905\n",
            "dtype: float64\n",
            "unhappy: Y    45.238095\n",
            "dtype: float64\n"
          ]
        },
        {
          "data": {
            "image/png": "[encoded data removed]",
            "text/plain": [
              "<Figure size 432x432 with 1 Axes>"
            ]
          },
          "metadata": {},
          "output_type": "display_data"
        }
      ],
      "source": [
        "happy= df.loc[df['Y'] ==1]\n",
        "unhappy= df.loc[df['Y']==0]\n",
        "happy= happy.iloc[:, :1]\n",
        "happy= happy.sum()\n",
        "unhappy= df.shape[0]- happy\n",
        "p = [happy, unhappy]\n",
        "plt_data = pd.DataFrame(p)\n",
        "plt_data.plot(kind='pie', subplots=True, labels=['Happy', 'Unhappy'],figsize=(6,6))\n",
        "print(\"happy:\",happy/(happy+unhappy)*100)\n",
        "print(\"unhappy:\",unhappy/(happy+unhappy)*100)"
      ]
    },
    {
      "cell_type": "markdown",
      "metadata": {},
      "source": [
        "Based on the graph , we can observe that the data is slight unbalanced(54%-45%=9%)"
      ]
    },
    {
      "cell_type": "markdown",
      "metadata": {},
      "source": [
        "**Dummy encoding for categorical data**"
      ]
    },
    {
      "cell_type": "code",
      "execution_count": 629,
      "metadata": {},
      "outputs": [
        {
          "data": {
            "text/html": [
              "<div>\n",
              "<style scoped>\n",
              "    .dataframe tbody tr th:only-of-type {\n",
              "        vertical-align: middle;\n",
              "    }\n",
              "\n",
              "    .dataframe tbody tr th {\n",
              "        vertical-align: top;\n",
              "    }\n",
              "\n",
              "    .dataframe thead th {\n",
              "        text-align: right;\n",
              "    }\n",
              "</style>\n",
              "<table border=\"1\" class=\"dataframe\">\n",
              "  <thead>\n",
              "    <tr style=\"text-align: right;\">\n",
              "      <th></th>\n",
              "      <th>Y</th>\n",
              "      <th>X1_3</th>\n",
              "      <th>X1_4</th>\n",
              "      <th>X1_5</th>\n",
              "      <th>X2_2</th>\n",
              "      <th>X2_3</th>\n",
              "      <th>X2_4</th>\n",
              "      <th>X2_5</th>\n",
              "      <th>X3_2</th>\n",
              "      <th>X3_3</th>\n",
              "      <th>...</th>\n",
              "      <th>X4_4</th>\n",
              "      <th>X4_5</th>\n",
              "      <th>X5_2</th>\n",
              "      <th>X5_3</th>\n",
              "      <th>X5_4</th>\n",
              "      <th>X5_5</th>\n",
              "      <th>X6_2</th>\n",
              "      <th>X6_3</th>\n",
              "      <th>X6_4</th>\n",
              "      <th>X6_5</th>\n",
              "    </tr>\n",
              "  </thead>\n",
              "  <tbody>\n",
              "    <tr>\n",
              "      <th>0</th>\n",
              "      <td>0</td>\n",
              "      <td>1</td>\n",
              "      <td>0</td>\n",
              "      <td>0</td>\n",
              "      <td>0</td>\n",
              "      <td>1</td>\n",
              "      <td>0</td>\n",
              "      <td>0</td>\n",
              "      <td>0</td>\n",
              "      <td>1</td>\n",
              "      <td>...</td>\n",
              "      <td>1</td>\n",
              "      <td>0</td>\n",
              "      <td>1</td>\n",
              "      <td>0</td>\n",
              "      <td>0</td>\n",
              "      <td>0</td>\n",
              "      <td>0</td>\n",
              "      <td>0</td>\n",
              "      <td>1</td>\n",
              "      <td>0</td>\n",
              "    </tr>\n",
              "    <tr>\n",
              "      <th>1</th>\n",
              "      <td>0</td>\n",
              "      <td>1</td>\n",
              "      <td>0</td>\n",
              "      <td>0</td>\n",
              "      <td>1</td>\n",
              "      <td>0</td>\n",
              "      <td>0</td>\n",
              "      <td>0</td>\n",
              "      <td>0</td>\n",
              "      <td>1</td>\n",
              "      <td>...</td>\n",
              "      <td>0</td>\n",
              "      <td>1</td>\n",
              "      <td>0</td>\n",
              "      <td>0</td>\n",
              "      <td>1</td>\n",
              "      <td>0</td>\n",
              "      <td>0</td>\n",
              "      <td>1</td>\n",
              "      <td>0</td>\n",
              "      <td>0</td>\n",
              "    </tr>\n",
              "    <tr>\n",
              "      <th>2</th>\n",
              "      <td>1</td>\n",
              "      <td>0</td>\n",
              "      <td>0</td>\n",
              "      <td>1</td>\n",
              "      <td>0</td>\n",
              "      <td>1</td>\n",
              "      <td>0</td>\n",
              "      <td>0</td>\n",
              "      <td>0</td>\n",
              "      <td>1</td>\n",
              "      <td>...</td>\n",
              "      <td>0</td>\n",
              "      <td>0</td>\n",
              "      <td>0</td>\n",
              "      <td>1</td>\n",
              "      <td>0</td>\n",
              "      <td>0</td>\n",
              "      <td>0</td>\n",
              "      <td>0</td>\n",
              "      <td>0</td>\n",
              "      <td>1</td>\n",
              "    </tr>\n",
              "    <tr>\n",
              "      <th>3</th>\n",
              "      <td>0</td>\n",
              "      <td>0</td>\n",
              "      <td>0</td>\n",
              "      <td>1</td>\n",
              "      <td>0</td>\n",
              "      <td>0</td>\n",
              "      <td>1</td>\n",
              "      <td>0</td>\n",
              "      <td>0</td>\n",
              "      <td>1</td>\n",
              "      <td>...</td>\n",
              "      <td>0</td>\n",
              "      <td>0</td>\n",
              "      <td>0</td>\n",
              "      <td>1</td>\n",
              "      <td>0</td>\n",
              "      <td>0</td>\n",
              "      <td>0</td>\n",
              "      <td>0</td>\n",
              "      <td>0</td>\n",
              "      <td>1</td>\n",
              "    </tr>\n",
              "    <tr>\n",
              "      <th>4</th>\n",
              "      <td>0</td>\n",
              "      <td>0</td>\n",
              "      <td>0</td>\n",
              "      <td>1</td>\n",
              "      <td>0</td>\n",
              "      <td>0</td>\n",
              "      <td>1</td>\n",
              "      <td>0</td>\n",
              "      <td>0</td>\n",
              "      <td>1</td>\n",
              "      <td>...</td>\n",
              "      <td>0</td>\n",
              "      <td>0</td>\n",
              "      <td>0</td>\n",
              "      <td>1</td>\n",
              "      <td>0</td>\n",
              "      <td>0</td>\n",
              "      <td>0</td>\n",
              "      <td>0</td>\n",
              "      <td>0</td>\n",
              "      <td>1</td>\n",
              "    </tr>\n",
              "    <tr>\n",
              "      <th>...</th>\n",
              "      <td>...</td>\n",
              "      <td>...</td>\n",
              "      <td>...</td>\n",
              "      <td>...</td>\n",
              "      <td>...</td>\n",
              "      <td>...</td>\n",
              "      <td>...</td>\n",
              "      <td>...</td>\n",
              "      <td>...</td>\n",
              "      <td>...</td>\n",
              "      <td>...</td>\n",
              "      <td>...</td>\n",
              "      <td>...</td>\n",
              "      <td>...</td>\n",
              "      <td>...</td>\n",
              "      <td>...</td>\n",
              "      <td>...</td>\n",
              "      <td>...</td>\n",
              "      <td>...</td>\n",
              "      <td>...</td>\n",
              "      <td>...</td>\n",
              "    </tr>\n",
              "    <tr>\n",
              "      <th>121</th>\n",
              "      <td>1</td>\n",
              "      <td>0</td>\n",
              "      <td>0</td>\n",
              "      <td>1</td>\n",
              "      <td>1</td>\n",
              "      <td>0</td>\n",
              "      <td>0</td>\n",
              "      <td>0</td>\n",
              "      <td>0</td>\n",
              "      <td>1</td>\n",
              "      <td>...</td>\n",
              "      <td>1</td>\n",
              "      <td>0</td>\n",
              "      <td>0</td>\n",
              "      <td>0</td>\n",
              "      <td>1</td>\n",
              "      <td>0</td>\n",
              "      <td>0</td>\n",
              "      <td>1</td>\n",
              "      <td>0</td>\n",
              "      <td>0</td>\n",
              "    </tr>\n",
              "    <tr>\n",
              "      <th>122</th>\n",
              "      <td>1</td>\n",
              "      <td>0</td>\n",
              "      <td>0</td>\n",
              "      <td>1</td>\n",
              "      <td>1</td>\n",
              "      <td>0</td>\n",
              "      <td>0</td>\n",
              "      <td>0</td>\n",
              "      <td>0</td>\n",
              "      <td>1</td>\n",
              "      <td>...</td>\n",
              "      <td>1</td>\n",
              "      <td>0</td>\n",
              "      <td>1</td>\n",
              "      <td>0</td>\n",
              "      <td>0</td>\n",
              "      <td>0</td>\n",
              "      <td>0</td>\n",
              "      <td>0</td>\n",
              "      <td>0</td>\n",
              "      <td>1</td>\n",
              "    </tr>\n",
              "    <tr>\n",
              "      <th>123</th>\n",
              "      <td>1</td>\n",
              "      <td>0</td>\n",
              "      <td>0</td>\n",
              "      <td>1</td>\n",
              "      <td>0</td>\n",
              "      <td>1</td>\n",
              "      <td>0</td>\n",
              "      <td>0</td>\n",
              "      <td>0</td>\n",
              "      <td>1</td>\n",
              "      <td>...</td>\n",
              "      <td>1</td>\n",
              "      <td>0</td>\n",
              "      <td>0</td>\n",
              "      <td>0</td>\n",
              "      <td>1</td>\n",
              "      <td>0</td>\n",
              "      <td>0</td>\n",
              "      <td>0</td>\n",
              "      <td>0</td>\n",
              "      <td>1</td>\n",
              "    </tr>\n",
              "    <tr>\n",
              "      <th>124</th>\n",
              "      <td>0</td>\n",
              "      <td>0</td>\n",
              "      <td>1</td>\n",
              "      <td>0</td>\n",
              "      <td>0</td>\n",
              "      <td>1</td>\n",
              "      <td>0</td>\n",
              "      <td>0</td>\n",
              "      <td>0</td>\n",
              "      <td>1</td>\n",
              "      <td>...</td>\n",
              "      <td>1</td>\n",
              "      <td>0</td>\n",
              "      <td>0</td>\n",
              "      <td>0</td>\n",
              "      <td>1</td>\n",
              "      <td>0</td>\n",
              "      <td>0</td>\n",
              "      <td>0</td>\n",
              "      <td>0</td>\n",
              "      <td>1</td>\n",
              "    </tr>\n",
              "    <tr>\n",
              "      <th>125</th>\n",
              "      <td>0</td>\n",
              "      <td>0</td>\n",
              "      <td>0</td>\n",
              "      <td>1</td>\n",
              "      <td>0</td>\n",
              "      <td>1</td>\n",
              "      <td>0</td>\n",
              "      <td>0</td>\n",
              "      <td>1</td>\n",
              "      <td>0</td>\n",
              "      <td>...</td>\n",
              "      <td>0</td>\n",
              "      <td>1</td>\n",
              "      <td>0</td>\n",
              "      <td>0</td>\n",
              "      <td>0</td>\n",
              "      <td>1</td>\n",
              "      <td>0</td>\n",
              "      <td>0</td>\n",
              "      <td>0</td>\n",
              "      <td>1</td>\n",
              "    </tr>\n",
              "  </tbody>\n",
              "</table>\n",
              "<p>126 rows × 24 columns</p>\n",
              "</div>"
            ],
            "text/plain": [
              "     Y  X1_3  X1_4  X1_5  X2_2  X2_3  X2_4  X2_5  X3_2  X3_3  ...  X4_4  X4_5  \\\n",
              "0    0     1     0     0     0     1     0     0     0     1  ...     1     0   \n",
              "1    0     1     0     0     1     0     0     0     0     1  ...     0     1   \n",
              "2    1     0     0     1     0     1     0     0     0     1  ...     0     0   \n",
              "3    0     0     0     1     0     0     1     0     0     1  ...     0     0   \n",
              "4    0     0     0     1     0     0     1     0     0     1  ...     0     0   \n",
              "..  ..   ...   ...   ...   ...   ...   ...   ...   ...   ...  ...   ...   ...   \n",
              "121  1     0     0     1     1     0     0     0     0     1  ...     1     0   \n",
              "122  1     0     0     1     1     0     0     0     0     1  ...     1     0   \n",
              "123  1     0     0     1     0     1     0     0     0     1  ...     1     0   \n",
              "124  0     0     1     0     0     1     0     0     0     1  ...     1     0   \n",
              "125  0     0     0     1     0     1     0     0     1     0  ...     0     1   \n",
              "\n",
              "     X5_2  X5_3  X5_4  X5_5  X6_2  X6_3  X6_4  X6_5  \n",
              "0       1     0     0     0     0     0     1     0  \n",
              "1       0     0     1     0     0     1     0     0  \n",
              "2       0     1     0     0     0     0     0     1  \n",
              "3       0     1     0     0     0     0     0     1  \n",
              "4       0     1     0     0     0     0     0     1  \n",
              "..    ...   ...   ...   ...   ...   ...   ...   ...  \n",
              "121     0     0     1     0     0     1     0     0  \n",
              "122     1     0     0     0     0     0     0     1  \n",
              "123     0     0     1     0     0     0     0     1  \n",
              "124     0     0     1     0     0     0     0     1  \n",
              "125     0     0     0     1     0     0     0     1  \n",
              "\n",
              "[126 rows x 24 columns]"
            ]
          },
          "execution_count": 629,
          "metadata": {},
          "output_type": "execute_result"
        }
      ],
      "source": [
        "df_dummy = pd.get_dummies(df, columns=['X1', 'X2', 'X3', 'X4', 'X5', 'X6'], drop_first=True)\n",
        "\n",
        "df_dummy"
      ]
    },
    {
      "cell_type": "code",
      "execution_count": 630,
      "metadata": {},
      "outputs": [
        {
          "data": {
            "text/html": [
              "<div>\n",
              "<style scoped>\n",
              "    .dataframe tbody tr th:only-of-type {\n",
              "        vertical-align: middle;\n",
              "    }\n",
              "\n",
              "    .dataframe tbody tr th {\n",
              "        vertical-align: top;\n",
              "    }\n",
              "\n",
              "    .dataframe thead th {\n",
              "        text-align: right;\n",
              "    }\n",
              "</style>\n",
              "<table border=\"1\" class=\"dataframe\">\n",
              "  <thead>\n",
              "    <tr style=\"text-align: right;\">\n",
              "      <th></th>\n",
              "      <th>X1_3</th>\n",
              "      <th>X1_4</th>\n",
              "      <th>X1_5</th>\n",
              "      <th>X2_2</th>\n",
              "      <th>X2_3</th>\n",
              "      <th>X2_4</th>\n",
              "      <th>X2_5</th>\n",
              "      <th>X3_2</th>\n",
              "      <th>X3_3</th>\n",
              "      <th>X3_4</th>\n",
              "      <th>...</th>\n",
              "      <th>X4_4</th>\n",
              "      <th>X4_5</th>\n",
              "      <th>X5_2</th>\n",
              "      <th>X5_3</th>\n",
              "      <th>X5_4</th>\n",
              "      <th>X5_5</th>\n",
              "      <th>X6_2</th>\n",
              "      <th>X6_3</th>\n",
              "      <th>X6_4</th>\n",
              "      <th>X6_5</th>\n",
              "    </tr>\n",
              "  </thead>\n",
              "  <tbody>\n",
              "    <tr>\n",
              "      <th>0</th>\n",
              "      <td>1</td>\n",
              "      <td>0</td>\n",
              "      <td>0</td>\n",
              "      <td>0</td>\n",
              "      <td>1</td>\n",
              "      <td>0</td>\n",
              "      <td>0</td>\n",
              "      <td>0</td>\n",
              "      <td>1</td>\n",
              "      <td>0</td>\n",
              "      <td>...</td>\n",
              "      <td>1</td>\n",
              "      <td>0</td>\n",
              "      <td>1</td>\n",
              "      <td>0</td>\n",
              "      <td>0</td>\n",
              "      <td>0</td>\n",
              "      <td>0</td>\n",
              "      <td>0</td>\n",
              "      <td>1</td>\n",
              "      <td>0</td>\n",
              "    </tr>\n",
              "    <tr>\n",
              "      <th>1</th>\n",
              "      <td>1</td>\n",
              "      <td>0</td>\n",
              "      <td>0</td>\n",
              "      <td>1</td>\n",
              "      <td>0</td>\n",
              "      <td>0</td>\n",
              "      <td>0</td>\n",
              "      <td>0</td>\n",
              "      <td>1</td>\n",
              "      <td>0</td>\n",
              "      <td>...</td>\n",
              "      <td>0</td>\n",
              "      <td>1</td>\n",
              "      <td>0</td>\n",
              "      <td>0</td>\n",
              "      <td>1</td>\n",
              "      <td>0</td>\n",
              "      <td>0</td>\n",
              "      <td>1</td>\n",
              "      <td>0</td>\n",
              "      <td>0</td>\n",
              "    </tr>\n",
              "    <tr>\n",
              "      <th>2</th>\n",
              "      <td>0</td>\n",
              "      <td>0</td>\n",
              "      <td>1</td>\n",
              "      <td>0</td>\n",
              "      <td>1</td>\n",
              "      <td>0</td>\n",
              "      <td>0</td>\n",
              "      <td>0</td>\n",
              "      <td>1</td>\n",
              "      <td>0</td>\n",
              "      <td>...</td>\n",
              "      <td>0</td>\n",
              "      <td>0</td>\n",
              "      <td>0</td>\n",
              "      <td>1</td>\n",
              "      <td>0</td>\n",
              "      <td>0</td>\n",
              "      <td>0</td>\n",
              "      <td>0</td>\n",
              "      <td>0</td>\n",
              "      <td>1</td>\n",
              "    </tr>\n",
              "    <tr>\n",
              "      <th>3</th>\n",
              "      <td>0</td>\n",
              "      <td>0</td>\n",
              "      <td>1</td>\n",
              "      <td>0</td>\n",
              "      <td>0</td>\n",
              "      <td>1</td>\n",
              "      <td>0</td>\n",
              "      <td>0</td>\n",
              "      <td>1</td>\n",
              "      <td>0</td>\n",
              "      <td>...</td>\n",
              "      <td>0</td>\n",
              "      <td>0</td>\n",
              "      <td>0</td>\n",
              "      <td>1</td>\n",
              "      <td>0</td>\n",
              "      <td>0</td>\n",
              "      <td>0</td>\n",
              "      <td>0</td>\n",
              "      <td>0</td>\n",
              "      <td>1</td>\n",
              "    </tr>\n",
              "    <tr>\n",
              "      <th>4</th>\n",
              "      <td>0</td>\n",
              "      <td>0</td>\n",
              "      <td>1</td>\n",
              "      <td>0</td>\n",
              "      <td>0</td>\n",
              "      <td>1</td>\n",
              "      <td>0</td>\n",
              "      <td>0</td>\n",
              "      <td>1</td>\n",
              "      <td>0</td>\n",
              "      <td>...</td>\n",
              "      <td>0</td>\n",
              "      <td>0</td>\n",
              "      <td>0</td>\n",
              "      <td>1</td>\n",
              "      <td>0</td>\n",
              "      <td>0</td>\n",
              "      <td>0</td>\n",
              "      <td>0</td>\n",
              "      <td>0</td>\n",
              "      <td>1</td>\n",
              "    </tr>\n",
              "  </tbody>\n",
              "</table>\n",
              "<p>5 rows × 23 columns</p>\n",
              "</div>"
            ],
            "text/plain": [
              "   X1_3  X1_4  X1_5  X2_2  X2_3  X2_4  X2_5  X3_2  X3_3  X3_4  ...  X4_4  \\\n",
              "0     1     0     0     0     1     0     0     0     1     0  ...     1   \n",
              "1     1     0     0     1     0     0     0     0     1     0  ...     0   \n",
              "2     0     0     1     0     1     0     0     0     1     0  ...     0   \n",
              "3     0     0     1     0     0     1     0     0     1     0  ...     0   \n",
              "4     0     0     1     0     0     1     0     0     1     0  ...     0   \n",
              "\n",
              "   X4_5  X5_2  X5_3  X5_4  X5_5  X6_2  X6_3  X6_4  X6_5  \n",
              "0     0     1     0     0     0     0     0     1     0  \n",
              "1     1     0     0     1     0     0     1     0     0  \n",
              "2     0     0     1     0     0     0     0     0     1  \n",
              "3     0     0     1     0     0     0     0     0     1  \n",
              "4     0     0     1     0     0     0     0     0     1  \n",
              "\n",
              "[5 rows x 23 columns]"
            ]
          },
          "execution_count": 630,
          "metadata": {},
          "output_type": "execute_result"
        }
      ],
      "source": [
        "# Putting feature variable to X\n",
        "X = df_dummy.drop(['Y'], axis=1)\n",
        "X.head()"
      ]
    },
    {
      "cell_type": "code",
      "execution_count": 631,
      "metadata": {},
      "outputs": [],
      "source": [
        "# puttting target variable to y\n",
        "y = df_dummy['Y']"
      ]
    },
    {
      "cell_type": "code",
      "execution_count": 632,
      "metadata": {},
      "outputs": [],
      "source": [
        "# Splitting the data into train and test\n",
        "X_train, X_test, y_train, y_test = train_test_split(X, y, train_size=0.75, test_size=0.25, random_state=1)"
      ]
    },
    {
      "cell_type": "markdown",
      "metadata": {
        "id": "HOle3ndX-1En"
      },
      "source": [
        "**Using Logistic Regression**"
      ]
    },
    {
      "cell_type": "code",
      "execution_count": 633,
      "metadata": {},
      "outputs": [],
      "source": [
        "# scalling the data\n",
        "\n",
        "from sklearn.preprocessing import MinMaxScaler\n",
        "\n",
        "scaler = MinMaxScaler(feature_range = (0,1))\n",
        "\n",
        "scaler.fit(X_train)\n",
        "X_train = scaler.transform(X_train)\n",
        "X_test = scaler.transform(X_test)"
      ]
    },
    {
      "cell_type": "code",
      "execution_count": 634,
      "metadata": {
        "id": "GyOsDkT7-3p0"
      },
      "outputs": [],
      "source": [
        "# Make instance of the model\n",
        "model = LogisticRegression()"
      ]
    },
    {
      "cell_type": "code",
      "execution_count": 635,
      "metadata": {
        "colab": {
          "base_uri": "https://localhost:8080/"
        },
        "id": "qaj5C7Iw-62n",
        "outputId": "aa99bbf1-4934-4eff-f48c-d90b8bb1db55"
      },
      "outputs": [
        {
          "data": {
            "text/plain": [
              "LogisticRegression()"
            ]
          },
          "execution_count": 635,
          "metadata": {},
          "output_type": "execute_result"
        }
      ],
      "source": [
        "model.fit(X_train, y_train)"
      ]
    },
    {
      "cell_type": "code",
      "execution_count": 636,
      "metadata": {
        "id": "RANMYSSC-9Ca"
      },
      "outputs": [],
      "source": [
        "predictions = model.predict(X_test)"
      ]
    },
    {
      "cell_type": "code",
      "execution_count": 637,
      "metadata": {},
      "outputs": [
        {
          "name": "stdout",
          "output_type": "stream",
          "text": [
            "Training score: 67.02127659574468\n"
          ]
        }
      ],
      "source": [
        "# Use score method to get accuracy of model\n",
        "score = model.score(X_train, y_train)\n",
        "print(\"Training score:\",score*100)"
      ]
    },
    {
      "cell_type": "code",
      "execution_count": 638,
      "metadata": {
        "colab": {
          "base_uri": "https://localhost:8080/"
        },
        "id": "dgeH9xwM-_jH",
        "outputId": "bf21fecf-44d8-4cf1-dcdc-a2f825f8cc83"
      },
      "outputs": [
        {
          "name": "stdout",
          "output_type": "stream",
          "text": [
            "Test score: 68.75\n"
          ]
        }
      ],
      "source": [
        "# Use score method to get accuracy of model\n",
        "score = model.score(X_test, y_test)\n",
        "print(\"Test score:\",score*100)"
      ]
    },
    {
      "cell_type": "markdown",
      "metadata": {},
      "source": [
        "We have 67.02% on training set and 68.75% on test set as fisrt result using Logistic Regression. Let use another algorithms and see if we can get better performance."
      ]
    },
    {
      "cell_type": "code",
      "execution_count": 639,
      "metadata": {
        "colab": {
          "base_uri": "https://localhost:8080/"
        },
        "id": "OcGot5hg_Cjz",
        "outputId": "c4d1b621-029b-421e-8283-f8eb960ab33f"
      },
      "outputs": [
        {
          "name": "stderr",
          "output_type": "stream",
          "text": [
            "/home/amath/.local/lib/python3.8/site-packages/sklearn/utils/deprecation.py:87: FutureWarning: Function plot_confusion_matrix is deprecated; Function `plot_confusion_matrix` is deprecated in 1.0 and will be removed in 1.2. Use one of the class methods: ConfusionMatrixDisplay.from_predictions or ConfusionMatrixDisplay.from_estimator.\n",
            "  warnings.warn(msg, category=FutureWarning)\n"
          ]
        },
        {
          "data": {
            "text/plain": [
              "<sklearn.metrics._plot.confusion_matrix.ConfusionMatrixDisplay at 0x7efc3fc67c10>"
            ]
          },
          "execution_count": 639,
          "metadata": {},
          "output_type": "execute_result"
        },
        {
          "data": {
            "image/png": "[encoded data removed]",
            "text/plain": [
              "<Figure size 432x288 with 2 Axes>"
            ]
          },
          "metadata": {
            "needs_background": "light"
          },
          "output_type": "display_data"
        }
      ],
      "source": [
        "#print('Confusion Matrix')\n",
        "plot_confusion_matrix(model, X_test, y_test)"
      ]
    },
    {
      "cell_type": "markdown",
      "metadata": {
        "id": "NL6fu11M_Nv6"
      },
      "source": [
        "\n",
        "* features selection using chistq test\n",
        "* cross validation"
      ]
    },
    {
      "cell_type": "markdown",
      "metadata": {
        "id": "unI785nQKKaH"
      },
      "source": [
        "**Feature Selection**"
      ]
    },
    {
      "cell_type": "code",
      "execution_count": 640,
      "metadata": {
        "id": "z_g7YNnQKtQz"
      },
      "outputs": [],
      "source": [
        "from sklearn.feature_selection import SelectKBest, chi2"
      ]
    },
    {
      "cell_type": "code",
      "execution_count": 641,
      "metadata": {},
      "outputs": [],
      "source": [
        "# Putting feature variable to X\n",
        "Xdf = df.drop(['Y'], axis=1)\n",
        "\n",
        "# puttting target variable to y\n",
        "ydf = df['Y']\n",
        "\n",
        "# Splitting the data into train and test\n",
        "Xdf_train, Xdf_test, ydf_train, ydf_test = train_test_split(Xdf, ydf, train_size=0.75, test_size=0.25, random_state=1)"
      ]
    },
    {
      "cell_type": "code",
      "execution_count": 642,
      "metadata": {
        "colab": {
          "base_uri": "https://localhost:8080/",
          "height": 369
        },
        "id": "rJ7_JfjEKPVO",
        "outputId": "4c262d8b-f5aa-4a7b-975f-c6cb8bcce9d5"
      },
      "outputs": [
        {
          "name": "stdout",
          "output_type": "stream",
          "text": [
            "Feature(0) X1: 1.414157\n",
            "Feature(1) X2: 0.218818\n",
            "Feature(2) X3: 0.464921\n",
            "Feature(3) X4: 0.071758\n",
            "Feature(4) X5: 1.675030\n",
            "Feature(5) X6: 0.839318\n"
          ]
        },
        {
          "data": {
            "image/png": "[encoded data removed]",
            "text/plain": [
              "<Figure size 432x288 with 1 Axes>"
            ]
          },
          "metadata": {
            "needs_background": "light"
          },
          "output_type": "display_data"
        }
      ],
      "source": [
        "# feature selection\n",
        "fs = SelectKBest(score_func=chi2, k='all')\n",
        "fs.fit(Xdf_train, ydf_train)\n",
        "X_train_fs = fs.transform(Xdf_train)\n",
        "X_test_fs = fs.transform(Xdf_test)\n",
        "\n",
        "# scores for features\n",
        "feature_names = ['X1','X2','X3','X4','X5','X6']\n",
        "for i in range(len(fs.scores_)):\n",
        "    print('Feature(%d) %s: %f' % (i, feature_names[i], fs.scores_[i]))\n",
        "\n",
        "# plot the scores\n",
        "plt.bar([i for i in range(len(fs.scores_))], fs.scores_)\n",
        "plt.show()"
      ]
    },
    {
      "cell_type": "markdown",
      "metadata": {
        "id": "w8BmaldFLOSJ"
      },
      "source": [
        "We can observe that features X5 and X1 are more corralated to the target variable Y"
      ]
    },
    {
      "cell_type": "markdown",
      "metadata": {
        "id": "PVxnTxPYMTgJ"
      },
      "source": [
        "**Create the model and use cross validation**"
      ]
    },
    {
      "cell_type": "markdown",
      "metadata": {
        "id": "MEwR6WKlMnxw"
      },
      "source": [
        "\n",
        "\n",
        "*   Let first work with all features\n",
        "\n"
      ]
    },
    {
      "cell_type": "code",
      "execution_count": 643,
      "metadata": {
        "id": "EdCGDBUcK2oq"
      },
      "outputs": [],
      "source": [
        "def model_performance(Xlr,ylr):\n",
        "    # Spot Check Algorithms\n",
        "    models = []\n",
        "    models.append(('LR', LogisticRegression(solver='liblinear', multi_class='ovr')))\n",
        "    models.append(('LDA', LinearDiscriminantAnalysis()))\n",
        "    models.append(('KNN', KNeighborsClassifier()))\n",
        "    models.append(('DesTree', DecisionTreeClassifier()))\n",
        "    models.append(('NB', GaussianNB()))\n",
        "    models.append(('SVM', SVC(gamma='auto')))\n",
        "    models.append(('RF', RandomForestClassifier(max_depth=6, random_state=100)))\n",
        "    ratio = float(np.sum(ylr == 0)) / np.sum(ylr==1)\n",
        "    models.append(('XGB', XGBClassifier(scale_pos_weight = ratio, learning_rate =0.01,\n",
        "                        objective= 'binary:logistic', use_label_encoder=False, eval_metric='error')))\n",
        "\n",
        "    # evaluate each model in turn\n",
        "    results = []\n",
        "    names = []\n",
        "    for name, model in models:\n",
        "        kfold = StratifiedKFold(n_splits=10, random_state=100, shuffle=True)\n",
        "        cv_results = cross_val_score(model, Xlr, ylr, cv=kfold, scoring='accuracy')\n",
        "        results.append(cv_results)\n",
        "        names.append(name)\n",
        "        print('%s: %.2f (%.2f)' % (name, cv_results.mean()*100, cv_results.std()))\n",
        "    _ = plt.bar(names,np.mean(results, axis=1)*100)"
      ]
    },
    {
      "cell_type": "code",
      "execution_count": 644,
      "metadata": {
        "colab": {
          "base_uri": "https://localhost:8080/",
          "height": 404
        },
        "id": "WALDZeHJMuc-",
        "outputId": "287252f9-20ed-4989-c018-2dd0d78b5474"
      },
      "outputs": [
        {
          "name": "stdout",
          "output_type": "stream",
          "text": [
            "LR: 53.11 (0.17)\n",
            "LDA: 50.00 (0.18)\n",
            "KNN: 51.89 (0.13)\n",
            "DesTree: 63.11 (0.20)\n",
            "NB: 53.44 (0.06)\n",
            "SVM: 51.22 (0.11)\n",
            "RF: 61.78 (0.14)\n",
            "XGB: 55.44 (0.17)\n"
          ]
        },
        {
          "data": {
            "image/png": "[encoded data removed]",
            "text/plain": [
              "<Figure size 432x288 with 1 Axes>"
            ]
          },
          "metadata": {
            "needs_background": "light"
          },
          "output_type": "display_data"
        }
      ],
      "source": [
        "model_performance(X_train, y_train)"
      ]
    },
    {
      "cell_type": "markdown",
      "metadata": {
        "id": "8HfsFsjhPAPQ"
      },
      "source": [
        "Now by just considering required features, lets evaluate above models again. Based on the feature scores, lets set the value of k=3."
      ]
    },
    {
      "cell_type": "code",
      "execution_count": 645,
      "metadata": {
        "id": "Pm1LOjjeMyKE"
      },
      "outputs": [],
      "source": [
        "# feature selection\n",
        "def select_features_chi(X_train, y_train, X_test):\n",
        "    fs = SelectKBest(score_func=chi2, k=3)\n",
        "    fs.fit(X_train, y_train)\n",
        "    X_train_fs = fs.transform(X_train)\n",
        "    X_test_fs = fs.transform(X_test)\n",
        "    return X_train_fs, X_test_fs, fs"
      ]
    },
    {
      "cell_type": "code",
      "execution_count": 646,
      "metadata": {
        "id": "vzSFVEdHONGU"
      },
      "outputs": [],
      "source": [
        "# split into train and test sets\n",
        "X_train, X_test, y_train, y_test = train_test_split(X, y, test_size=0.25, random_state=42, stratify=y)\n",
        "\n",
        "# feature selection (chi2)\n",
        "X_train_cfs, X_test_cfs, cfs = select_features_chi(X_train, y_train, X_test)"
      ]
    },
    {
      "cell_type": "code",
      "execution_count": 647,
      "metadata": {
        "colab": {
          "base_uri": "https://localhost:8080/",
          "height": 404
        },
        "id": "nagPyXEYOQsh",
        "outputId": "1bfaea15-b58a-44dd-d422-001dda5da107"
      },
      "outputs": [
        {
          "name": "stdout",
          "output_type": "stream",
          "text": [
            "LR: 59.89 (0.15)\n",
            "LDA: 59.89 (0.15)\n",
            "KNN: 43.44 (0.14)\n",
            "DesTree: 58.78 (0.13)\n",
            "NB: 57.78 (0.11)\n",
            "SVM: 58.78 (0.13)\n",
            "RF: 60.89 (0.11)\n",
            "XGB: 61.00 (0.15)\n"
          ]
        },
        {
          "data": {
            "image/png": "[encoded data removed]",
            "text/plain": [
              "<Figure size 432x288 with 1 Axes>"
            ]
          },
          "metadata": {
            "needs_background": "light"
          },
          "output_type": "display_data"
        }
      ],
      "source": [
        "model_performance(X_train_cfs, y_train)"
      ]
    },
    {
      "cell_type": "markdown",
      "metadata": {},
      "source": [
        "**Performance Logistic Regression: LR**"
      ]
    },
    {
      "cell_type": "code",
      "execution_count": 648,
      "metadata": {},
      "outputs": [
        {
          "name": "stdout",
          "output_type": "stream",
          "text": [
            "Testing Accuracy: 65.62 \n",
            "\n",
            "Confusion matrix:\n",
            "[[ 6  8]\n",
            " [ 3 15]]\n",
            "\n",
            "Classification Report:\n",
            "\n",
            "              precision    recall  f1-score   support\n",
            "\n",
            "           0       0.67      0.43      0.52        14\n",
            "           1       0.65      0.83      0.73        18\n",
            "\n",
            "    accuracy                           0.66        32\n",
            "   macro avg       0.66      0.63      0.63        32\n",
            "weighted avg       0.66      0.66      0.64        32\n",
            "\n"
          ]
        }
      ],
      "source": [
        "rfcModel = LogisticRegression(solver='liblinear', multi_class='ovr')\n",
        "rfcModel.fit(X_train_cfs, y_train)\n",
        "predictions = rfcModel.predict(X_test_cfs)\n",
        "\n",
        "# Evaluate predictions\n",
        "print('Testing Accuracy: %.2f \\n' % (accuracy_score(y_test, predictions)*100))\n",
        "print('Confusion matrix:')\n",
        "print(confusion_matrix(y_test, predictions))\n",
        "print('\\nClassification Report:\\n')\n",
        "print(classification_report(y_test, predictions))"
      ]
    },
    {
      "cell_type": "markdown",
      "metadata": {},
      "source": [
        "* The model is not performing well in terms of accuracy(59.89% in training set and 65.62% in test set.)"
      ]
    },
    {
      "cell_type": "markdown",
      "metadata": {},
      "source": [
        "**Linear Discrimination Analysis: LDA**"
      ]
    },
    {
      "cell_type": "code",
      "execution_count": 649,
      "metadata": {},
      "outputs": [
        {
          "name": "stdout",
          "output_type": "stream",
          "text": [
            "Testing Accuracy: 65.62 \n",
            "\n",
            "Confusion matrix:\n",
            "[[ 6  8]\n",
            " [ 3 15]]\n",
            "\n",
            "Classification Report:\n",
            "\n",
            "              precision    recall  f1-score   support\n",
            "\n",
            "           0       0.67      0.43      0.52        14\n",
            "           1       0.65      0.83      0.73        18\n",
            "\n",
            "    accuracy                           0.66        32\n",
            "   macro avg       0.66      0.63      0.63        32\n",
            "weighted avg       0.66      0.66      0.64        32\n",
            "\n"
          ]
        }
      ],
      "source": [
        "rfcModel = LinearDiscriminantAnalysis()\n",
        "rfcModel.fit(X_train_cfs, y_train)\n",
        "predictions = rfcModel.predict(X_test_cfs)\n",
        "\n",
        "# Evaluate predictions\n",
        "print('Testing Accuracy: %.2f \\n' % (accuracy_score(y_test, predictions)*100))\n",
        "print('Confusion matrix:')\n",
        "print(confusion_matrix(y_test, predictions))\n",
        "print('\\nClassification Report:\\n')\n",
        "print(classification_report(y_test, predictions))"
      ]
    },
    {
      "cell_type": "markdown",
      "metadata": {},
      "source": [
        "* The model is not performing well in terms of accuracy(59.89% in training set and 65.62% in test set.)"
      ]
    },
    {
      "cell_type": "markdown",
      "metadata": {},
      "source": [
        "**K Nearest Neighbor: KNN**"
      ]
    },
    {
      "cell_type": "code",
      "execution_count": 650,
      "metadata": {},
      "outputs": [
        {
          "name": "stdout",
          "output_type": "stream",
          "text": [
            "Testing Accuracy: 56.25 \n",
            "\n",
            "Confusion matrix:\n",
            "[[ 0 14]\n",
            " [ 0 18]]\n",
            "\n",
            "Classification Report:\n",
            "\n",
            "              precision    recall  f1-score   support\n",
            "\n",
            "           0       0.00      0.00      0.00        14\n",
            "           1       0.56      1.00      0.72        18\n",
            "\n",
            "    accuracy                           0.56        32\n",
            "   macro avg       0.28      0.50      0.36        32\n",
            "weighted avg       0.32      0.56      0.40        32\n",
            "\n"
          ]
        },
        {
          "name": "stderr",
          "output_type": "stream",
          "text": [
            "/home/amath/.local/lib/python3.8/site-packages/sklearn/metrics/_classification.py:1308: UndefinedMetricWarning: Precision and F-score are ill-defined and being set to 0.0 in labels with no predicted samples. Use `zero_division` parameter to control this behavior.\n",
            "  _warn_prf(average, modifier, msg_start, len(result))\n",
            "/home/amath/.local/lib/python3.8/site-packages/sklearn/metrics/_classification.py:1308: UndefinedMetricWarning: Precision and F-score are ill-defined and being set to 0.0 in labels with no predicted samples. Use `zero_division` parameter to control this behavior.\n",
            "  _warn_prf(average, modifier, msg_start, len(result))\n",
            "/home/amath/.local/lib/python3.8/site-packages/sklearn/metrics/_classification.py:1308: UndefinedMetricWarning: Precision and F-score are ill-defined and being set to 0.0 in labels with no predicted samples. Use `zero_division` parameter to control this behavior.\n",
            "  _warn_prf(average, modifier, msg_start, len(result))\n"
          ]
        }
      ],
      "source": [
        "rfcModel = KNeighborsClassifier()\n",
        "rfcModel.fit(X_train_cfs, y_train)\n",
        "predictions = rfcModel.predict(X_test_cfs)\n",
        "\n",
        "# Evaluate predictions\n",
        "print('Testing Accuracy: %.2f \\n' % (accuracy_score(y_test, predictions)*100))\n",
        "print('Confusion matrix:')\n",
        "print(confusion_matrix(y_test, predictions))\n",
        "print('\\nClassification Report:\\n')\n",
        "print(classification_report(y_test, predictions))"
      ]
    },
    {
      "cell_type": "markdown",
      "metadata": {},
      "source": [
        "* KNN model is not performing well(Training Accuracy: 43.44% , Testing Accuracy: 56.25). It's the worse model"
      ]
    },
    {
      "cell_type": "markdown",
      "metadata": {},
      "source": [
        "**Decision Tree Classifier: DesTree**"
      ]
    },
    {
      "cell_type": "code",
      "execution_count": 651,
      "metadata": {},
      "outputs": [
        {
          "name": "stdout",
          "output_type": "stream",
          "text": [
            "Testing Accuracy: 65.62 \n",
            "\n",
            "Confusion matrix:\n",
            "[[ 6  8]\n",
            " [ 3 15]]\n",
            "\n",
            "Classification Report:\n",
            "\n",
            "              precision    recall  f1-score   support\n",
            "\n",
            "           0       0.67      0.43      0.52        14\n",
            "           1       0.65      0.83      0.73        18\n",
            "\n",
            "    accuracy                           0.66        32\n",
            "   macro avg       0.66      0.63      0.63        32\n",
            "weighted avg       0.66      0.66      0.64        32\n",
            "\n"
          ]
        }
      ],
      "source": [
        "rfcModel = DecisionTreeClassifier()\n",
        "rfcModel.fit(X_train_cfs, y_train)\n",
        "predictions = rfcModel.predict(X_test_cfs)\n",
        "\n",
        "# Evaluate predictions\n",
        "print('Testing Accuracy: %.2f \\n' % (accuracy_score(y_test, predictions)*100))\n",
        "print('Confusion matrix:')\n",
        "print(confusion_matrix(y_test, predictions))\n",
        "print('\\nClassification Report:\\n')\n",
        "print(classification_report(y_test, predictions))"
      ]
    },
    {
      "cell_type": "markdown",
      "metadata": {},
      "source": [
        "* The model is not performing well in terms of accuracy(58.78% in training set and 65.62% in test set.)"
      ]
    },
    {
      "cell_type": "markdown",
      "metadata": {},
      "source": [
        "**Naive Bayes: NB**"
      ]
    },
    {
      "cell_type": "code",
      "execution_count": 652,
      "metadata": {},
      "outputs": [
        {
          "name": "stdout",
          "output_type": "stream",
          "text": [
            "Testing Accuracy: 65.62 \n",
            "\n",
            "Confusion matrix:\n",
            "[[ 6  8]\n",
            " [ 3 15]]\n",
            "\n",
            "Classification Report:\n",
            "\n",
            "              precision    recall  f1-score   support\n",
            "\n",
            "           0       0.67      0.43      0.52        14\n",
            "           1       0.65      0.83      0.73        18\n",
            "\n",
            "    accuracy                           0.66        32\n",
            "   macro avg       0.66      0.63      0.63        32\n",
            "weighted avg       0.66      0.66      0.64        32\n",
            "\n"
          ]
        }
      ],
      "source": [
        "rfcModel = GaussianNB()\n",
        "rfcModel.fit(X_train_cfs, y_train)\n",
        "predictions = rfcModel.predict(X_test_cfs)\n",
        "\n",
        "# Evaluate predictions\n",
        "print('Testing Accuracy: %.2f \\n' % (accuracy_score(y_test, predictions)*100))\n",
        "print('Confusion matrix:')\n",
        "print(confusion_matrix(y_test, predictions))\n",
        "print('\\nClassification Report:\\n')\n",
        "print(classification_report(y_test, predictions))"
      ]
    },
    {
      "cell_type": "markdown",
      "metadata": {},
      "source": [
        "* The model is not performing well in terms of accuracy(57.78% in training set and 65.62% in test set.)"
      ]
    },
    {
      "cell_type": "markdown",
      "metadata": {},
      "source": [
        "**Support Vector Machine: SVM**"
      ]
    },
    {
      "cell_type": "code",
      "execution_count": 653,
      "metadata": {},
      "outputs": [
        {
          "name": "stdout",
          "output_type": "stream",
          "text": [
            "Testing Accuracy: 78.12 \n",
            "\n",
            "Confusion matrix:\n",
            "[[10  4]\n",
            " [ 3 15]]\n",
            "\n",
            "Classification Report:\n",
            "\n",
            "              precision    recall  f1-score   support\n",
            "\n",
            "           0       0.77      0.71      0.74        14\n",
            "           1       0.79      0.83      0.81        18\n",
            "\n",
            "    accuracy                           0.78        32\n",
            "   macro avg       0.78      0.77      0.78        32\n",
            "weighted avg       0.78      0.78      0.78        32\n",
            "\n"
          ]
        }
      ],
      "source": [
        "rfcModel = SVC(gamma='auto')\n",
        "rfcModel.fit(X_train_cfs, y_train)\n",
        "predictions = rfcModel.predict(X_test_cfs)\n",
        "\n",
        "# Evaluate predictions\n",
        "print('Testing Accuracy: %.2f \\n' % (accuracy_score(y_test, predictions)*100))\n",
        "print('Confusion matrix:')\n",
        "print(confusion_matrix(y_test, predictions))\n",
        "print('\\nClassification Report:\\n')\n",
        "print(classification_report(y_test, predictions))"
      ]
    },
    {
      "cell_type": "markdown",
      "metadata": {},
      "source": [
        "* The SVM model is better compare to the previous models (58.78% in training set and 78.12% in test set.) and greater than the target accuracy(73%)"
      ]
    },
    {
      "cell_type": "markdown",
      "metadata": {},
      "source": [
        "**Performance Random Forest**"
      ]
    },
    {
      "cell_type": "code",
      "execution_count": 654,
      "metadata": {
        "colab": {
          "base_uri": "https://localhost:8080/"
        },
        "id": "bQn1grwxOUWi",
        "outputId": "e35deea1-e48c-48c8-c98f-d32588761ed4"
      },
      "outputs": [
        {
          "name": "stdout",
          "output_type": "stream",
          "text": [
            "Testing Accuracy: 65.62 \n",
            "\n",
            "Confusion matrix:\n",
            "[[ 6  8]\n",
            " [ 3 15]]\n",
            "\n",
            "Classification Report:\n",
            "\n",
            "              precision    recall  f1-score   support\n",
            "\n",
            "           0       0.67      0.43      0.52        14\n",
            "           1       0.65      0.83      0.73        18\n",
            "\n",
            "    accuracy                           0.66        32\n",
            "   macro avg       0.66      0.63      0.63        32\n",
            "weighted avg       0.66      0.66      0.64        32\n",
            "\n"
          ]
        }
      ],
      "source": [
        "rfcModel = RandomForestClassifier(max_depth=6, random_state=100)\n",
        "rfcModel.fit(X_train_cfs, y_train)\n",
        "predictions = rfcModel.predict(X_test_cfs)\n",
        "\n",
        "# Evaluate predictions\n",
        "print('Testing Accuracy: %.2f \\n' % (accuracy_score(y_test, predictions)*100))\n",
        "print('Confusion matrix:')\n",
        "print(confusion_matrix(y_test, predictions))\n",
        "print('\\nClassification Report:\\n')\n",
        "print(classification_report(y_test, predictions))"
      ]
    },
    {
      "cell_type": "markdown",
      "metadata": {},
      "source": [
        "* The model is not performing well in terms of accuracy(60.89% in training set and 65.62% in test set.)"
      ]
    },
    {
      "cell_type": "markdown",
      "metadata": {},
      "source": [
        "**Performance XGBoost**"
      ]
    },
    {
      "cell_type": "code",
      "execution_count": 655,
      "metadata": {
        "colab": {
          "base_uri": "https://localhost:8080/"
        },
        "id": "yYn-eo4VOelj",
        "outputId": "355d2d9c-fbfb-45dd-c8a3-3c747a07c484"
      },
      "outputs": [
        {
          "name": "stdout",
          "output_type": "stream",
          "text": [
            "Testing Accuracy: 78.12 \n",
            "\n",
            "Confusion matrix:\n",
            "[[10  4]\n",
            " [ 3 15]]\n",
            "\n",
            "Classification Report:\n",
            "\n",
            "              precision    recall  f1-score   support\n",
            "\n",
            "           0       0.77      0.71      0.74        14\n",
            "           1       0.79      0.83      0.81        18\n",
            "\n",
            "    accuracy                           0.78        32\n",
            "   macro avg       0.78      0.77      0.78        32\n",
            "weighted avg       0.78      0.78      0.78        32\n",
            "\n"
          ]
        }
      ],
      "source": [
        "ratio = float(np.sum(y_train == 0)) / np.sum(y_train==1)\n",
        "xgbModel = XGBClassifier(scale_pos_weight = ratio, learning_rate =0.1,\n",
        "                        objective= 'binary:logistic', use_label_encoder=False, eval_metric='error')\n",
        "xgbModel.fit(X_train_cfs, y_train)\n",
        "predictions = xgbModel.predict(X_test_cfs)\n",
        "\n",
        "# Evaluate predictions\n",
        "print('Testing Accuracy: %.2f \\n' % (accuracy_score(y_test, predictions)*100))\n",
        "print('Confusion matrix:')\n",
        "print(confusion_matrix(y_test, predictions))\n",
        "print('\\nClassification Report:\\n')\n",
        "print(classification_report(y_test, predictions))"
      ]
    },
    {
      "cell_type": "markdown",
      "metadata": {},
      "source": [
        "* XGBoost is able to reach the same accuracy than SVM on test data (61.00% in training set and 78.12% in test set.) and greater than the target accuracy(73%)"
      ]
    },
    {
      "cell_type": "markdown",
      "metadata": {
        "id": "Lm587MR7Qisy"
      },
      "source": [
        "**Conclusion**\n",
        "\n",
        "\n",
        "1.   XGBoost and SVM are out performing the target accuracy with an accuracy equal to 78.12%. \n",
        "2.   Theses 2 algorithms perform better than others when the data samples is not big. \n",
        "3. For perspective, we can add more data and remove X2 from next survey since the score was too low \n",
        "\n"
      ]
    }
  ],
  "metadata": {
    "colab": {
      "collapsed_sections": [],
      "name": "happyness.ipynb",
      "provenance": []
    },
    "kernelspec": {
      "display_name": "Python 3",
      "name": "python3"
    },
    "language_info": {
      "codemirror_mode": {
        "name": "ipython",
        "version": 3
      },
      "file_extension": ".py",
      "mimetype": "text/x-python",
      "name": "python",
      "nbconvert_exporter": "python",
      "pygments_lexer": "ipython3",
      "version": "3.8.10"
    }
  },
  "nbformat": 4,
  "nbformat_minor": 0
}
